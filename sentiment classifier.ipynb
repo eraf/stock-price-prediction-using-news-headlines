{
 "cells": [
  {
   "cell_type": "code",
   "execution_count": 1,
   "id": "37fa6b8d",
   "metadata": {},
   "outputs": [],
   "source": [
    "import pandas as pd\n",
    "import numpy as np\n",
    "import re\n",
    "import nltk"
   ]
  },
  {
   "cell_type": "code",
   "execution_count": 5,
   "id": "400ced3f",
   "metadata": {},
   "outputs": [],
   "source": [
    "from nltk.stem import WordNetLemmatizer\n",
    "from nltk.stem import PorterStemmer\n",
    "from nltk.corpus import stopwords\n",
    "stemmer = PorterStemmer()\n",
    "#lemmatizer = WordNetLemmatizer()"
   ]
  },
  {
   "cell_type": "code",
   "execution_count": 2,
   "id": "5939ab9a",
   "metadata": {},
   "outputs": [],
   "source": [
    "data = pd.read_csv(\"Data.csv\", encoding = \"ISO-8859-1\")"
   ]
  },
  {
   "cell_type": "code",
   "execution_count": 12,
   "id": "da3d7bee",
   "metadata": {},
   "outputs": [
    {
     "data": {
      "text/plain": [
       "4262"
      ]
     },
     "execution_count": 12,
     "metadata": {},
     "output_type": "execute_result"
    }
   ],
   "source": [
    "len(data)"
   ]
  },
  {
   "cell_type": "code",
   "execution_count": 3,
   "id": "da4c8ccd",
   "metadata": {},
   "outputs": [
    {
     "data": {
      "text/plain": [
       "Date     0\n",
       "Label    0\n",
       "Top1     0\n",
       "Top2     0\n",
       "Top3     0\n",
       "Top4     0\n",
       "Top5     0\n",
       "Top6     0\n",
       "Top7     0\n",
       "Top8     0\n",
       "Top9     0\n",
       "Top10    0\n",
       "Top11    0\n",
       "Top12    0\n",
       "Top13    0\n",
       "Top14    0\n",
       "Top15    0\n",
       "Top16    0\n",
       "Top17    0\n",
       "Top18    0\n",
       "Top19    0\n",
       "Top20    0\n",
       "Top21    0\n",
       "Top22    0\n",
       "Top23    1\n",
       "Top24    3\n",
       "Top25    3\n",
       "dtype: int64"
      ]
     },
     "execution_count": 3,
     "metadata": {},
     "output_type": "execute_result"
    }
   ],
   "source": [
    "data.isnull().sum()"
   ]
  },
  {
   "cell_type": "code",
   "execution_count": 13,
   "id": "2f9f0b85",
   "metadata": {},
   "outputs": [],
   "source": [
    "data1 = data.dropna()"
   ]
  },
  {
   "cell_type": "code",
   "execution_count": 4,
   "id": "224a0f82",
   "metadata": {},
   "outputs": [],
   "source": [
    "Y = data[\"Label\"]\n",
    "X = data.iloc[:, 2:]"
   ]
  },
  {
   "cell_type": "code",
   "execution_count": 6,
   "id": "d6a8929c",
   "metadata": {},
   "outputs": [],
   "source": [
    "X_stem = []\n",
    "#X_lemma = []\n",
    "for i in range(len(X)):\n",
    "    sentence = \" \".join(str(x) for x in X.iloc[i, : ])\n",
    "    sentence = re.sub(\"[^a-zA-Z]\", \" \", sentence)\n",
    "    sentence = sentence.lower().split()\n",
    "    sentence = [stemmer.stem(s) for s in sentence if s not in stopwords.words(\"english\")]\n",
    "    sentence = \" \".join(sentence)\n",
    "    #sentence = [lemmatizer.lemmatize(s) for s in sentence if s not in stopwords.words(\"english\")]\n",
    "    X_stem.append(sentence)"
   ]
  },
  {
   "cell_type": "code",
   "execution_count": 7,
   "id": "84ad5b2c",
   "metadata": {
    "scrolled": true
   },
   "outputs": [],
   "source": [
    "#bag of words\n",
    "from sklearn.feature_extraction.text import CountVectorizer\n",
    "#tfidf\n",
    "from sklearn.feature_extraction.text import TfidfVectorizer\n",
    "#word2vec\n",
    "from gensim.models import Word2Vec"
   ]
  },
  {
   "cell_type": "code",
   "execution_count": 8,
   "id": "1b8162a7",
   "metadata": {},
   "outputs": [],
   "source": [
    "X = TfidfVectorizer().fit_transform(X_stem).toarray()"
   ]
  },
  {
   "cell_type": "code",
   "execution_count": 9,
   "id": "0d7f82b5",
   "metadata": {},
   "outputs": [],
   "source": [
    "#models\n",
    "#naive bayes\n",
    "from sklearn.naive_bayes import MultinomialNB\n",
    "#random forest classifier\n",
    "from sklearn.ensemble import RandomForestClassifier\n",
    "#logistic regression\n",
    "from sklearn.linear_model import LogisticRegression"
   ]
  },
  {
   "cell_type": "code",
   "execution_count": 10,
   "id": "14ccf823",
   "metadata": {},
   "outputs": [],
   "source": [
    "from sklearn.model_selection import train_test_split\n",
    "X_train, X_test, Y_train, Y_test = train_test_split(X, Y, test_size = .20, shuffle = False)"
   ]
  },
  {
   "cell_type": "code",
   "execution_count": 11,
   "id": "b3f168b4",
   "metadata": {},
   "outputs": [
    {
     "name": "stdout",
     "output_type": "stream",
     "text": [
      "0.5334957369062119\n"
     ]
    }
   ],
   "source": [
    "from sklearn.metrics import confusion_matrix\n",
    "from sklearn.metrics import accuracy_score\n",
    "model = MultinomialNB().fit(X_train, Y_train)\n",
    "predicted = model.predict(X_test)\n",
    "print(accuracy_score(Y_test, predicted))"
   ]
  },
  {
   "cell_type": "code",
   "execution_count": 12,
   "id": "5c7ada9a",
   "metadata": {},
   "outputs": [],
   "source": [
    "def f(X, model = \"naive_bayes\", confusion = 0):\n",
    "    if model == \"Random_forest\":\n",
    "        model = RandomForestClassifier().fit(X_train, Y_train)\n",
    "    if model == \"logistic_regression\":\n",
    "        model = LogisticRegression().fit(X_train, Y_train)\n",
    "    model = MultinomialNB().fit(X_train, Y_train)\n",
    "    pred = model.predict(X_test)\n",
    "    if confusion == 1:\n",
    "        return(confusion_matrix(Y_test, pred))\n",
    "    return accuracy_score(Y_test, pred)"
   ]
  },
  {
   "cell_type": "code",
   "execution_count": 29,
   "id": "782631b5",
   "metadata": {},
   "outputs": [
    {
     "data": {
      "text/plain": [
       "0.5305867665418227"
      ]
     },
     "execution_count": 29,
     "metadata": {},
     "output_type": "execute_result"
    }
   ],
   "source": [
    "f(X, model = \"logistic_regression\")"
   ]
  },
  {
   "cell_type": "code",
   "execution_count": 13,
   "id": "f1e6fcb2",
   "metadata": {},
   "outputs": [
    {
     "data": {
      "text/plain": [
       "0.5334957369062119"
      ]
     },
     "execution_count": 13,
     "metadata": {},
     "output_type": "execute_result"
    }
   ],
   "source": [
    "f(X, model = \"Random_forest\")"
   ]
  },
  {
   "cell_type": "code",
   "execution_count": null,
   "id": "bcc23e05",
   "metadata": {},
   "outputs": [],
   "source": []
  }
 ],
 "metadata": {
  "kernelspec": {
   "display_name": "Python 3 (ipykernel)",
   "language": "python",
   "name": "python3"
  },
  "language_info": {
   "codemirror_mode": {
    "name": "ipython",
    "version": 3
   },
   "file_extension": ".py",
   "mimetype": "text/x-python",
   "name": "python",
   "nbconvert_exporter": "python",
   "pygments_lexer": "ipython3",
   "version": "3.10.5"
  }
 },
 "nbformat": 4,
 "nbformat_minor": 5
}
